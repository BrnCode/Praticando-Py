{
  "nbformat": 4,
  "nbformat_minor": 0,
  "metadata": {
    "colab": {
      "name": "R no Python.ipynb",
      "provenance": [],
      "authorship_tag": "ABX9TyPZTgtLoU/r27Qwz5kH7vRO"
    },
    "kernelspec": {
      "name": "python3",
      "display_name": "Python 3"
    },
    "language_info": {
      "name": "python"
    }
  },
  "cells": [
    {
      "cell_type": "code",
      "execution_count": 1,
      "metadata": {
        "colab": {
          "base_uri": "https://localhost:8080/"
        },
        "id": "1RQDAY9q8H60",
        "outputId": "6d758bf2-9742-45da-e120-eeeab39da8f4"
      },
      "outputs": [
        {
          "output_type": "stream",
          "name": "stdout",
          "text": [
            "Requirement already satisfied: rpy2 in /usr/local/lib/python3.7/dist-packages (3.4.5)\n",
            "Requirement already satisfied: tzlocal in /usr/local/lib/python3.7/dist-packages (from rpy2) (1.5.1)\n",
            "Requirement already satisfied: cffi>=1.10.0 in /usr/local/lib/python3.7/dist-packages (from rpy2) (1.15.0)\n",
            "Requirement already satisfied: jinja2 in /usr/local/lib/python3.7/dist-packages (from rpy2) (2.11.3)\n",
            "Requirement already satisfied: pytz in /usr/local/lib/python3.7/dist-packages (from rpy2) (2018.9)\n",
            "Requirement already satisfied: pycparser in /usr/local/lib/python3.7/dist-packages (from cffi>=1.10.0->rpy2) (2.21)\n",
            "Requirement already satisfied: MarkupSafe>=0.23 in /usr/local/lib/python3.7/dist-packages (from jinja2->rpy2) (2.0.1)\n"
          ]
        }
      ],
      "source": [
        "!pip install rpy2"
      ]
    },
    {
      "cell_type": "code",
      "source": [
        "import rpy2.robjects as ro"
      ],
      "metadata": {
        "id": "6Lp4ryC58Vvb"
      },
      "execution_count": 2,
      "outputs": []
    },
    {
      "cell_type": "markdown",
      "source": [
        "#### Vetores"
      ],
      "metadata": {
        "id": "BDHh26d-PS9r"
      }
    },
    {
      "cell_type": "code",
      "source": [
        "ro.r('x=c()')"
      ],
      "metadata": {
        "colab": {
          "base_uri": "https://localhost:8080/"
        },
        "id": "AWXgFvob8hKq",
        "outputId": "147eb355-c9f9-4e4f-89bf-8b4e92f4fae6"
      },
      "execution_count": 4,
      "outputs": [
        {
          "output_type": "execute_result",
          "data": {
            "text/plain": [
              "<rpy2.rinterface_lib.sexp.NULLType object at 0x7f023a47fb90> [RTYPES.NILSXP]"
            ]
          },
          "metadata": {},
          "execution_count": 4
        }
      ]
    },
    {
      "cell_type": "code",
      "source": [
        "ro.r('x[1]=5')"
      ],
      "metadata": {
        "colab": {
          "base_uri": "https://localhost:8080/",
          "height": 58
        },
        "id": "xjGtG5ca9Lo7",
        "outputId": "30f2b417-8851-4b0a-85ce-acc4ff025e99"
      },
      "execution_count": 6,
      "outputs": [
        {
          "output_type": "execute_result",
          "data": {
            "text/plain": [
              "<rpy2.robjects.vectors.FloatVector object at 0x7f0238899190> [RTYPES.REALSXP]\n",
              "R classes: ('numeric',)\n",
              "[5.000000]"
            ],
            "text/html": [
              "\n",
              "        <span>FloatVector with 1 elements.</span>\n",
              "        <table>\n",
              "        <tbody>\n",
              "          <tr>\n",
              "          \n",
              "            <td>\n",
              "            5.000000\n",
              "            </td>\n",
              "          \n",
              "          </tr>\n",
              "        </tbody>\n",
              "        </table>\n",
              "        "
            ]
          },
          "metadata": {},
          "execution_count": 6
        }
      ]
    },
    {
      "cell_type": "code",
      "source": [
        "ro.r('x[2]=1')"
      ],
      "metadata": {
        "colab": {
          "base_uri": "https://localhost:8080/",
          "height": 58
        },
        "id": "CUpl8PtXCnKA",
        "outputId": "9aa3e4e0-6782-48d7-a864-a4819aa10cc1"
      },
      "execution_count": 7,
      "outputs": [
        {
          "output_type": "execute_result",
          "data": {
            "text/plain": [
              "<rpy2.robjects.vectors.FloatVector object at 0x7f0238971230> [RTYPES.REALSXP]\n",
              "R classes: ('numeric',)\n",
              "[1.000000]"
            ],
            "text/html": [
              "\n",
              "        <span>FloatVector with 1 elements.</span>\n",
              "        <table>\n",
              "        <tbody>\n",
              "          <tr>\n",
              "          \n",
              "            <td>\n",
              "            1.000000\n",
              "            </td>\n",
              "          \n",
              "          </tr>\n",
              "        </tbody>\n",
              "        </table>\n",
              "        "
            ]
          },
          "metadata": {},
          "execution_count": 7
        }
      ]
    },
    {
      "cell_type": "code",
      "source": [
        "type(ro.r('x'))"
      ],
      "metadata": {
        "colab": {
          "base_uri": "https://localhost:8080/"
        },
        "id": "8RSdWvLpOdht",
        "outputId": "90646195-2fb3-48b7-9498-625c1991f08c"
      },
      "execution_count": 8,
      "outputs": [
        {
          "output_type": "execute_result",
          "data": {
            "text/plain": [
              "rpy2.robjects.vectors.FloatVector"
            ]
          },
          "metadata": {},
          "execution_count": 8
        }
      ]
    },
    {
      "cell_type": "code",
      "source": [
        "print(ro.r('x'))"
      ],
      "metadata": {
        "colab": {
          "base_uri": "https://localhost:8080/"
        },
        "id": "tdQ0DbPEOh6c",
        "outputId": "7e7b0474-52b4-437a-f1a6-1c109b3e249e"
      },
      "execution_count": 9,
      "outputs": [
        {
          "output_type": "stream",
          "name": "stdout",
          "text": [
            "[1] 5 1\n",
            "\n"
          ]
        }
      ]
    },
    {
      "cell_type": "code",
      "source": [
        "ro.r('y = x * 3')"
      ],
      "metadata": {
        "colab": {
          "base_uri": "https://localhost:8080/",
          "height": 58
        },
        "id": "5nd-al0EOkeT",
        "outputId": "494585e4-8ecb-4c83-a1bd-bbebab0038bd"
      },
      "execution_count": 10,
      "outputs": [
        {
          "output_type": "execute_result",
          "data": {
            "text/plain": [
              "<rpy2.robjects.vectors.FloatVector object at 0x7f0238898d20> [RTYPES.REALSXP]\n",
              "R classes: ('numeric',)\n",
              "[15.000000, 3.000000]"
            ],
            "text/html": [
              "\n",
              "        <span>FloatVector with 2 elements.</span>\n",
              "        <table>\n",
              "        <tbody>\n",
              "          <tr>\n",
              "          \n",
              "            <td>\n",
              "            15.000000\n",
              "            </td>\n",
              "          \n",
              "            <td>\n",
              "            3.000000\n",
              "            </td>\n",
              "          \n",
              "          </tr>\n",
              "        </tbody>\n",
              "        </table>\n",
              "        "
            ]
          },
          "metadata": {},
          "execution_count": 10
        }
      ]
    },
    {
      "cell_type": "code",
      "source": [
        "print(ro.r('y'))"
      ],
      "metadata": {
        "colab": {
          "base_uri": "https://localhost:8080/"
        },
        "id": "IJmY8BvcOpqr",
        "outputId": "bffff045-5ed6-4e3a-db76-d3d5a6367ab4"
      },
      "execution_count": 11,
      "outputs": [
        {
          "output_type": "stream",
          "name": "stdout",
          "text": [
            "[1] 15  3\n",
            "\n"
          ]
        }
      ]
    },
    {
      "cell_type": "markdown",
      "source": [
        "#### Funções"
      ],
      "metadata": {
        "id": "qqFO4QWKPUrb"
      }
    },
    {
      "cell_type": "code",
      "source": [
        "def soma(valor1, valor2):\n",
        "    return valor1 + valor2"
      ],
      "metadata": {
        "id": "rTi_Tb8YOrUD"
      },
      "execution_count": 12,
      "outputs": []
    },
    {
      "cell_type": "code",
      "source": [
        "soma(4, 9)"
      ],
      "metadata": {
        "colab": {
          "base_uri": "https://localhost:8080/"
        },
        "id": "Z9PS2QLPPfw7",
        "outputId": "d5e267a3-5eea-454a-c797-38d27d78f81e"
      },
      "execution_count": 14,
      "outputs": [
        {
          "output_type": "execute_result",
          "data": {
            "text/plain": [
              "13"
            ]
          },
          "metadata": {},
          "execution_count": 14
        }
      ]
    },
    {
      "cell_type": "code",
      "source": [
        "#Similar em R\n",
        "ro.r('''\n",
        "soma <- function(valor1, valor2){\n",
        "    return (valor1+valor2)\n",
        "}\n",
        "''')"
      ],
      "metadata": {
        "colab": {
          "base_uri": "https://localhost:8080/"
        },
        "id": "FSqk0AZaPc8s",
        "outputId": "f18a19e6-b81e-4966-8e5d-f6cbd843e37e"
      },
      "execution_count": 15,
      "outputs": [
        {
          "output_type": "execute_result",
          "data": {
            "text/plain": [
              "<rpy2.robjects.functions.SignatureTranslatedFunction object at 0x7f0242868550> [RTYPES.CLOSXP]\n",
              "R classes: ('function',)"
            ]
          },
          "metadata": {},
          "execution_count": 15
        }
      ]
    },
    {
      "cell_type": "code",
      "source": [
        "r = ro.r('soma(4, 9)')\n",
        "r"
      ],
      "metadata": {
        "colab": {
          "base_uri": "https://localhost:8080/",
          "height": 58
        },
        "id": "lOdaEfQIPe6T",
        "outputId": "acdfca2e-eb5f-4395-d092-6757673370d1"
      },
      "execution_count": 25,
      "outputs": [
        {
          "output_type": "execute_result",
          "data": {
            "text/plain": [
              "<rpy2.robjects.vectors.FloatVector object at 0x7f0231aa51e0> [RTYPES.REALSXP]\n",
              "R classes: ('numeric',)\n",
              "[13.000000]"
            ],
            "text/html": [
              "\n",
              "        <span>FloatVector with 1 elements.</span>\n",
              "        <table>\n",
              "        <tbody>\n",
              "          <tr>\n",
              "          \n",
              "            <td>\n",
              "            13.000000\n",
              "            </td>\n",
              "          \n",
              "          </tr>\n",
              "        </tbody>\n",
              "        </table>\n",
              "        "
            ]
          },
          "metadata": {},
          "execution_count": 25
        }
      ]
    },
    {
      "cell_type": "code",
      "source": [
        "type(r)"
      ],
      "metadata": {
        "colab": {
          "base_uri": "https://localhost:8080/"
        },
        "id": "JZYbMO6TQRvC",
        "outputId": "4159a3d0-0ac7-445f-9294-a846a91374fa"
      },
      "execution_count": 26,
      "outputs": [
        {
          "output_type": "execute_result",
          "data": {
            "text/plain": [
              "rpy2.robjects.vectors.FloatVector"
            ]
          },
          "metadata": {},
          "execution_count": 26
        }
      ]
    },
    {
      "cell_type": "code",
      "source": [
        "r_soma = ro.globalenv['soma']"
      ],
      "metadata": {
        "id": "84NtEbgjP-ln"
      },
      "execution_count": 23,
      "outputs": []
    },
    {
      "cell_type": "code",
      "source": [
        "type(r_soma)"
      ],
      "metadata": {
        "colab": {
          "base_uri": "https://localhost:8080/"
        },
        "id": "ZfIw3ZEoQVSL",
        "outputId": "26dd51c3-a206-4ee9-dbbf-bdd21c4534eb"
      },
      "execution_count": 27,
      "outputs": [
        {
          "output_type": "execute_result",
          "data": {
            "text/plain": [
              "rpy2.robjects.functions.SignatureTranslatedFunction"
            ]
          },
          "metadata": {},
          "execution_count": 27
        }
      ]
    },
    {
      "cell_type": "code",
      "source": [
        "print(r_soma(4, 10)) "
      ],
      "metadata": {
        "colab": {
          "base_uri": "https://localhost:8080/"
        },
        "id": "qTg0LHrePvrD",
        "outputId": "4bf501df-3097-45b6-cae0-3b33ebd73a1c"
      },
      "execution_count": 24,
      "outputs": [
        {
          "output_type": "stream",
          "name": "stdout",
          "text": [
            "[1] 14\n",
            "\n"
          ]
        }
      ]
    },
    {
      "cell_type": "code",
      "source": [
        "import numpy as np\n",
        "r = np.array(r)"
      ],
      "metadata": {
        "id": "cd9C8tVGQbFz"
      },
      "execution_count": 29,
      "outputs": []
    },
    {
      "cell_type": "code",
      "source": [
        "type(r)"
      ],
      "metadata": {
        "colab": {
          "base_uri": "https://localhost:8080/"
        },
        "id": "eTg_hbWwQFMr",
        "outputId": "c4c15052-f558-476d-8fa9-550a435429f9"
      },
      "execution_count": 30,
      "outputs": [
        {
          "output_type": "execute_result",
          "data": {
            "text/plain": [
              "numpy.ndarray"
            ]
          },
          "metadata": {},
          "execution_count": 30
        }
      ]
    },
    {
      "cell_type": "code",
      "source": [
        "r"
      ],
      "metadata": {
        "colab": {
          "base_uri": "https://localhost:8080/"
        },
        "id": "aiG57XqJQgWK",
        "outputId": "daaa99a5-905a-4c6b-a7fc-56e0547819c5"
      },
      "execution_count": 31,
      "outputs": [
        {
          "output_type": "execute_result",
          "data": {
            "text/plain": [
              "array([13.])"
            ]
          },
          "metadata": {},
          "execution_count": 31
        }
      ]
    },
    {
      "cell_type": "code",
      "source": [
        ""
      ],
      "metadata": {
        "id": "Tb-7HWUVQlNr"
      },
      "execution_count": null,
      "outputs": []
    }
  ]
}