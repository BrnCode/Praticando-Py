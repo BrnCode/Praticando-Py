{
  "nbformat": 4,
  "nbformat_minor": 0,
  "metadata": {
    "colab": {
      "name": "corretor_ortografico.ipynb",
      "provenance": [],
      "collapsed_sections": [],
      "authorship_tag": "ABX9TyOXBHSwMpSzR8MGUYCTbdCd"
    },
    "kernelspec": {
      "name": "python3",
      "display_name": "Python 3"
    },
    "language_info": {
      "name": "python"
    }
  },
  "cells": [
    {
      "cell_type": "markdown",
      "metadata": {
        "id": "FFzSVKEBcUCf"
      },
      "source": [
        "# Corretor"
      ]
    },
    {
      "cell_type": "code",
      "metadata": {
        "colab": {
          "base_uri": "https://localhost:8080/"
        },
        "id": "QPqgAy4s4U9c",
        "outputId": "b0c2955b-0f0c-46b2-87c6-b4781760b2c1"
      },
      "source": [
        "with open('artigos.txt', 'r') as f:\n",
        "  artigos = f.read()\n",
        "\n",
        "print(artigos[:500])"
      ],
      "execution_count": null,
      "outputs": [
        {
          "output_type": "stream",
          "text": [
            "\n",
            "\n",
            "\n",
            "imagem \n",
            "\n",
            "Temos a seguinte classe que representa um usuário no nosso sistema:\n",
            "\n",
            "java\n",
            "\n",
            "Para salvar um novo usuário, várias validações são feitas, como por exemplo: Ver se o nome só contém letras, [**o CPF só números**] e ver se o usuário possui no mínimo 18 anos. Veja o método que faz essa validação:\n",
            "\n",
            "java \n",
            "\n",
            "Suponha agora que eu tenha outra classe, a classe `Produto`, que contém um atributo nome e eu quero fazer a mesma validação que fiz para o nome do usuário: Ver se só contém letras. E aí? Vou\n"
          ],
          "name": "stdout"
        }
      ]
    },
    {
      "cell_type": "code",
      "metadata": {
        "colab": {
          "base_uri": "https://localhost:8080/"
        },
        "id": "qHCvdOQb3xf_",
        "outputId": "bd609aa4-2477-4388-f214-3a450812d00b"
      },
      "source": [
        "len(artigos)"
      ],
      "execution_count": null,
      "outputs": [
        {
          "output_type": "execute_result",
          "data": {
            "text/plain": [
              "2605046"
            ]
          },
          "metadata": {
            "tags": []
          },
          "execution_count": 6
        }
      ]
    },
    {
      "cell_type": "code",
      "metadata": {
        "colab": {
          "base_uri": "https://localhost:8080/"
        },
        "id": "c8tzTjy38YH3",
        "outputId": "71cd9c0e-c972-4e8a-8ccc-0d27e34f5b32"
      },
      "source": [
        "len(artigos.split())"
      ],
      "execution_count": null,
      "outputs": [
        {
          "output_type": "execute_result",
          "data": {
            "text/plain": [
              "416903"
            ]
          },
          "metadata": {
            "tags": []
          },
          "execution_count": 7
        }
      ]
    },
    {
      "cell_type": "markdown",
      "metadata": {
        "id": "FvUkxcAH9BJA"
      },
      "source": [
        "## separar da pontuação - tokenizando"
      ]
    },
    {
      "cell_type": "code",
      "metadata": {
        "colab": {
          "base_uri": "https://localhost:8080/"
        },
        "id": "oZTAbF-1J3Cf",
        "outputId": "81549030-a339-422b-ae19-2adb0f5aa5f2"
      },
      "source": [
        "import nltk\n",
        "nltk.download('punkt')"
      ],
      "execution_count": null,
      "outputs": [
        {
          "output_type": "stream",
          "text": [
            "[nltk_data] Downloading package punkt to /root/nltk_data...\n",
            "[nltk_data]   Unzipping tokenizers/punkt.zip.\n"
          ],
          "name": "stdout"
        },
        {
          "output_type": "execute_result",
          "data": {
            "text/plain": [
              "True"
            ]
          },
          "metadata": {
            "tags": []
          },
          "execution_count": 8
        }
      ]
    },
    {
      "cell_type": "code",
      "metadata": {
        "id": "joC2teQ88bQ-"
      },
      "source": [
        "texto_texte = 'olá, tudo bem com vocÊ?'\n",
        "palavras_separadas = nltk.tokenize.word_tokenize(texto_texte)"
      ],
      "execution_count": null,
      "outputs": []
    },
    {
      "cell_type": "code",
      "metadata": {
        "colab": {
          "base_uri": "https://localhost:8080/"
        },
        "id": "pyFohMiqJBc5",
        "outputId": "a4712af9-29f2-4894-9b3b-0e8f86cdb5f7"
      },
      "source": [
        "print(palavras_separadas)"
      ],
      "execution_count": null,
      "outputs": [
        {
          "output_type": "stream",
          "text": [
            "['olá', ',', 'tudo', 'bem', 'com', 'vocÊ', '?']\n"
          ],
          "name": "stdout"
        }
      ]
    },
    {
      "cell_type": "code",
      "metadata": {
        "colab": {
          "base_uri": "https://localhost:8080/"
        },
        "id": "ieC0G-sFJpHX",
        "outputId": "6c7fff83-7567-4ef9-a4ee-355ddb5cb5d1"
      },
      "source": [
        "len(palavras_separadas)"
      ],
      "execution_count": null,
      "outputs": [
        {
          "output_type": "execute_result",
          "data": {
            "text/plain": [
              "7"
            ]
          },
          "metadata": {
            "tags": []
          },
          "execution_count": 11
        }
      ]
    },
    {
      "cell_type": "code",
      "metadata": {
        "colab": {
          "base_uri": "https://localhost:8080/"
        },
        "id": "5ebjT2WhNC09",
        "outputId": "c8936b74-1988-4c14-88b1-641f792d71e9"
      },
      "source": [
        "'palavra'.isalpha() #se todas os caractéres da palavra forem alfabéticos retorna true"
      ],
      "execution_count": null,
      "outputs": [
        {
          "output_type": "execute_result",
          "data": {
            "text/plain": [
              "True"
            ]
          },
          "metadata": {
            "tags": []
          },
          "execution_count": 12
        }
      ]
    },
    {
      "cell_type": "code",
      "metadata": {
        "colab": {
          "base_uri": "https://localhost:8080/"
        },
        "id": "AKm_F-X9NdIZ",
        "outputId": "719e1661-0bb3-4e3a-9ce1-82ffa7500a2e"
      },
      "source": [
        "'gator12'.isalpha()"
      ],
      "execution_count": null,
      "outputs": [
        {
          "output_type": "execute_result",
          "data": {
            "text/plain": [
              "False"
            ]
          },
          "metadata": {
            "tags": []
          },
          "execution_count": 13
        }
      ]
    },
    {
      "cell_type": "code",
      "metadata": {
        "id": "bKiODM4pLtjv"
      },
      "source": [
        "def separador_palavras(lista_tokens):\n",
        "  lista_palavras = []\n",
        "  for token in lista_tokens:\n",
        "    if token.isalpha():\n",
        "      lista_palavras.append(token)\n",
        "  return lista_palavras"
      ],
      "execution_count": null,
      "outputs": []
    },
    {
      "cell_type": "code",
      "metadata": {
        "colab": {
          "base_uri": "https://localhost:8080/"
        },
        "id": "-yjGZ33yNvbO",
        "outputId": "a015335e-55b3-47c3-d225-7a6a23aec03d"
      },
      "source": [
        "separador_palavras(texto_texte)"
      ],
      "execution_count": null,
      "outputs": [
        {
          "output_type": "execute_result",
          "data": {
            "text/plain": [
              "['o',\n",
              " 'l',\n",
              " 'á',\n",
              " 't',\n",
              " 'u',\n",
              " 'd',\n",
              " 'o',\n",
              " 'b',\n",
              " 'e',\n",
              " 'm',\n",
              " 'c',\n",
              " 'o',\n",
              " 'm',\n",
              " 'v',\n",
              " 'o',\n",
              " 'c',\n",
              " 'Ê']"
            ]
          },
          "metadata": {
            "tags": []
          },
          "execution_count": 15
        }
      ]
    },
    {
      "cell_type": "code",
      "metadata": {
        "colab": {
          "base_uri": "https://localhost:8080/"
        },
        "id": "n8Q9uoVENzEu",
        "outputId": "910b5633-593e-4c8e-8412-f537d28e66d9"
      },
      "source": [
        "separador_palavras(palavras_separadas)"
      ],
      "execution_count": null,
      "outputs": [
        {
          "output_type": "execute_result",
          "data": {
            "text/plain": [
              "['olá', 'tudo', 'bem', 'com', 'vocÊ']"
            ]
          },
          "metadata": {
            "tags": []
          },
          "execution_count": 16
        }
      ]
    },
    {
      "cell_type": "code",
      "metadata": {
        "colab": {
          "base_uri": "https://localhost:8080/"
        },
        "id": "8k6CCKoRN5qe",
        "outputId": "6f7a52ad-83bb-40af-ef86-556610d745ed"
      },
      "source": [
        "lista_tokens = nltk.tokenize.word_tokenize(artigos)\n",
        "lista_palavras = separador_palavras(lista_tokens)\n",
        "print(f'número de palavras: {len(lista_palavras)}')"
      ],
      "execution_count": null,
      "outputs": [
        {
          "output_type": "stream",
          "text": [
            "número de palavras: 393914\n"
          ],
          "name": "stdout"
        }
      ]
    },
    {
      "cell_type": "markdown",
      "metadata": {
        "id": "5Bl1Rat8W9fg"
      },
      "source": [
        "## Normalização"
      ]
    },
    {
      "cell_type": "markdown",
      "metadata": {
        "id": "kB4Dn56iXYqO"
      },
      "source": [
        "### Quantos tipos de palavras há no corpus?"
      ]
    },
    {
      "cell_type": "code",
      "metadata": {
        "colab": {
          "base_uri": "https://localhost:8080/"
        },
        "id": "BBC3FVrAWYip",
        "outputId": "8e51adb3-7ba5-4a98-82c0-01d87f891bbb"
      },
      "source": [
        "print(lista_palavras[:20])"
      ],
      "execution_count": null,
      "outputs": [
        {
          "output_type": "stream",
          "text": [
            "['imagem', 'Temos', 'a', 'seguinte', 'classe', 'que', 'representa', 'um', 'usuário', 'no', 'nosso', 'sistema', 'java', 'Para', 'salvar', 'um', 'novo', 'usuário', 'várias', 'validações']\n"
          ],
          "name": "stdout"
        }
      ]
    },
    {
      "cell_type": "code",
      "metadata": {
        "colab": {
          "base_uri": "https://localhost:8080/"
        },
        "id": "13CQx6PwXky4",
        "outputId": "a6d89c16-9385-46a8-f6de-ea0414e11b79"
      },
      "source": [
        "def normalizacao(lista_palavras):\n",
        "  lista_normalizada = []\n",
        "  for palavra in lista_palavras:\n",
        "    lista_normalizada.append(palavra.lower()) #deixa todos os caracteres de lista em minusculo \n",
        "  return lista_normalizada\n",
        "\n",
        "lista_normalizada = normalizacao(lista_palavras)\n",
        "print(lista_normalizada[:20])"
      ],
      "execution_count": null,
      "outputs": [
        {
          "output_type": "stream",
          "text": [
            "['imagem', 'temos', 'a', 'seguinte', 'classe', 'que', 'representa', 'um', 'usuário', 'no', 'nosso', 'sistema', 'java', 'para', 'salvar', 'um', 'novo', 'usuário', 'várias', 'validações']\n"
          ],
          "name": "stdout"
        }
      ]
    },
    {
      "cell_type": "markdown",
      "metadata": {
        "id": "3NOzQdLpYqZu"
      },
      "source": [
        "### Quantas palavras repetidas há?"
      ]
    },
    {
      "cell_type": "code",
      "metadata": {
        "colab": {
          "base_uri": "https://localhost:8080/"
        },
        "id": "wjY0a3CMYeHJ",
        "outputId": "bc1e18af-d54a-4304-fca8-9279ca8abf1b"
      },
      "source": [
        "print('Palavras não repetidas:', len(set(lista_normalizada))) #Numero de palavras que ele conseguira corrigir"
      ],
      "execution_count": null,
      "outputs": [
        {
          "output_type": "stream",
          "text": [
            "Palavras não repetidas: 17652\n"
          ],
          "name": "stdout"
        }
      ]
    },
    {
      "cell_type": "markdown",
      "metadata": {
        "id": "oEbymPr1fxNv"
      },
      "source": [
        "# Detalhando o Corretor"
      ]
    },
    {
      "cell_type": "code",
      "metadata": {
        "colab": {
          "base_uri": "https://localhost:8080/"
        },
        "id": "C33prQ2lqCBq",
        "outputId": "82045399-32c3-4398-ddb2-d2b7c5a4b5ec"
      },
      "source": [
        "lista = 'lgica'\n",
        "(lista[:1], lista[1:])"
      ],
      "execution_count": null,
      "outputs": [
        {
          "output_type": "execute_result",
          "data": {
            "text/plain": [
              "('l', 'gica')"
            ]
          },
          "metadata": {
            "tags": []
          },
          "execution_count": 21
        }
      ]
    },
    {
      "cell_type": "code",
      "metadata": {
        "id": "Cy-Bm2ILpITC",
        "colab": {
          "base_uri": "https://localhost:8080/"
        },
        "outputId": "130074ab-9e5c-4b3f-983c-5fbc5f5240dc"
      },
      "source": [
        "palavra = 'lgica'\n",
        "def insere_letras(fatias):\n",
        "   novas_palavras = []\n",
        "   letras = 'abcdefghijklmnopqrstuvwxyzàáâãèéêìíîòóôõùúûç'\n",
        "   for E, D in fatias:\n",
        "     for letra in letras:\n",
        "       novas_palavras.append(E + letra + D)\n",
        "\n",
        "  \n",
        "   return novas_palavras\n",
        "\n",
        "def gerador_palavras(palavra):\n",
        "  fatias = []\n",
        "  for i in range(len(palavra)+1):\n",
        "    fatias.append((palavra[:i], palavra[i:]))\n",
        "  palavras_geradas = insere_letras(fatias)\n",
        "  return palavras_geradas  \n",
        "\n",
        "palavras_geradas = gerador_palavras(palavra)\n",
        "print(palavras_geradas)"
      ],
      "execution_count": null,
      "outputs": [
        {
          "output_type": "stream",
          "text": [
            "['algica', 'blgica', 'clgica', 'dlgica', 'elgica', 'flgica', 'glgica', 'hlgica', 'ilgica', 'jlgica', 'klgica', 'llgica', 'mlgica', 'nlgica', 'olgica', 'plgica', 'qlgica', 'rlgica', 'slgica', 'tlgica', 'ulgica', 'vlgica', 'wlgica', 'xlgica', 'ylgica', 'zlgica', 'àlgica', 'álgica', 'âlgica', 'ãlgica', 'èlgica', 'élgica', 'êlgica', 'ìlgica', 'ílgica', 'îlgica', 'òlgica', 'ólgica', 'ôlgica', 'õlgica', 'ùlgica', 'úlgica', 'ûlgica', 'çlgica', 'lagica', 'lbgica', 'lcgica', 'ldgica', 'legica', 'lfgica', 'lggica', 'lhgica', 'ligica', 'ljgica', 'lkgica', 'llgica', 'lmgica', 'lngica', 'logica', 'lpgica', 'lqgica', 'lrgica', 'lsgica', 'ltgica', 'lugica', 'lvgica', 'lwgica', 'lxgica', 'lygica', 'lzgica', 'làgica', 'lágica', 'lâgica', 'lãgica', 'lègica', 'légica', 'lêgica', 'lìgica', 'lígica', 'lîgica', 'lògica', 'lógica', 'lôgica', 'lõgica', 'lùgica', 'lúgica', 'lûgica', 'lçgica', 'lgaica', 'lgbica', 'lgcica', 'lgdica', 'lgeica', 'lgfica', 'lggica', 'lghica', 'lgiica', 'lgjica', 'lgkica', 'lglica', 'lgmica', 'lgnica', 'lgoica', 'lgpica', 'lgqica', 'lgrica', 'lgsica', 'lgtica', 'lguica', 'lgvica', 'lgwica', 'lgxica', 'lgyica', 'lgzica', 'lgàica', 'lgáica', 'lgâica', 'lgãica', 'lgèica', 'lgéica', 'lgêica', 'lgìica', 'lgíica', 'lgîica', 'lgòica', 'lgóica', 'lgôica', 'lgõica', 'lgùica', 'lgúica', 'lgûica', 'lgçica', 'lgiaca', 'lgibca', 'lgicca', 'lgidca', 'lgieca', 'lgifca', 'lgigca', 'lgihca', 'lgiica', 'lgijca', 'lgikca', 'lgilca', 'lgimca', 'lginca', 'lgioca', 'lgipca', 'lgiqca', 'lgirca', 'lgisca', 'lgitca', 'lgiuca', 'lgivca', 'lgiwca', 'lgixca', 'lgiyca', 'lgizca', 'lgiàca', 'lgiáca', 'lgiâca', 'lgiãca', 'lgièca', 'lgiéca', 'lgiêca', 'lgiìca', 'lgiíca', 'lgiîca', 'lgiòca', 'lgióca', 'lgiôca', 'lgiõca', 'lgiùca', 'lgiúca', 'lgiûca', 'lgiçca', 'lgicaa', 'lgicba', 'lgicca', 'lgicda', 'lgicea', 'lgicfa', 'lgicga', 'lgicha', 'lgicia', 'lgicja', 'lgicka', 'lgicla', 'lgicma', 'lgicna', 'lgicoa', 'lgicpa', 'lgicqa', 'lgicra', 'lgicsa', 'lgicta', 'lgicua', 'lgicva', 'lgicwa', 'lgicxa', 'lgicya', 'lgicza', 'lgicàa', 'lgicáa', 'lgicâa', 'lgicãa', 'lgicèa', 'lgicéa', 'lgicêa', 'lgicìa', 'lgicía', 'lgicîa', 'lgicòa', 'lgicóa', 'lgicôa', 'lgicõa', 'lgicùa', 'lgicúa', 'lgicûa', 'lgicça', 'lgicaa', 'lgicab', 'lgicac', 'lgicad', 'lgicae', 'lgicaf', 'lgicag', 'lgicah', 'lgicai', 'lgicaj', 'lgicak', 'lgical', 'lgicam', 'lgican', 'lgicao', 'lgicap', 'lgicaq', 'lgicar', 'lgicas', 'lgicat', 'lgicau', 'lgicav', 'lgicaw', 'lgicax', 'lgicay', 'lgicaz', 'lgicaà', 'lgicaá', 'lgicaâ', 'lgicaã', 'lgicaè', 'lgicaé', 'lgicaê', 'lgicaì', 'lgicaí', 'lgicaî', 'lgicaò', 'lgicaó', 'lgicaô', 'lgicaõ', 'lgicaù', 'lgicaú', 'lgicaû', 'lgicaç']\n"
          ],
          "name": "stdout"
        }
      ]
    },
    {
      "cell_type": "code",
      "metadata": {
        "id": "pm7r7Xv0awI4",
        "colab": {
          "base_uri": "https://localhost:8080/"
        },
        "outputId": "574d7ee5-476f-4ed4-c011-d7c059dd1774"
      },
      "source": [
        "palavra = 'lgica'\n",
        "def gerador_palavras(palavra):\n",
        "  fatias = []\n",
        "  for i in range(len(palavra)+1):\n",
        "    fatias.append((palavra[:i], palavra[i:]))\n",
        "  print(fatias)\n",
        "  palavras_geradas = insere_letras(fatias)\n",
        "  return palavras_geradas  \n",
        "\n",
        "gerador_palavras(palavra)\n"
      ],
      "execution_count": null,
      "outputs": [
        {
          "output_type": "stream",
          "text": [
            "[('', 'lgica'), ('l', 'gica'), ('lg', 'ica'), ('lgi', 'ca'), ('lgic', 'a'), ('lgica', '')]\n"
          ],
          "name": "stdout"
        },
        {
          "output_type": "execute_result",
          "data": {
            "text/plain": [
              "['algica',\n",
              " 'blgica',\n",
              " 'clgica',\n",
              " 'dlgica',\n",
              " 'elgica',\n",
              " 'flgica',\n",
              " 'glgica',\n",
              " 'hlgica',\n",
              " 'ilgica',\n",
              " 'jlgica',\n",
              " 'klgica',\n",
              " 'llgica',\n",
              " 'mlgica',\n",
              " 'nlgica',\n",
              " 'olgica',\n",
              " 'plgica',\n",
              " 'qlgica',\n",
              " 'rlgica',\n",
              " 'slgica',\n",
              " 'tlgica',\n",
              " 'ulgica',\n",
              " 'vlgica',\n",
              " 'wlgica',\n",
              " 'xlgica',\n",
              " 'ylgica',\n",
              " 'zlgica',\n",
              " 'àlgica',\n",
              " 'álgica',\n",
              " 'âlgica',\n",
              " 'ãlgica',\n",
              " 'èlgica',\n",
              " 'élgica',\n",
              " 'êlgica',\n",
              " 'ìlgica',\n",
              " 'ílgica',\n",
              " 'îlgica',\n",
              " 'òlgica',\n",
              " 'ólgica',\n",
              " 'ôlgica',\n",
              " 'õlgica',\n",
              " 'ùlgica',\n",
              " 'úlgica',\n",
              " 'ûlgica',\n",
              " 'çlgica',\n",
              " 'lagica',\n",
              " 'lbgica',\n",
              " 'lcgica',\n",
              " 'ldgica',\n",
              " 'legica',\n",
              " 'lfgica',\n",
              " 'lggica',\n",
              " 'lhgica',\n",
              " 'ligica',\n",
              " 'ljgica',\n",
              " 'lkgica',\n",
              " 'llgica',\n",
              " 'lmgica',\n",
              " 'lngica',\n",
              " 'logica',\n",
              " 'lpgica',\n",
              " 'lqgica',\n",
              " 'lrgica',\n",
              " 'lsgica',\n",
              " 'ltgica',\n",
              " 'lugica',\n",
              " 'lvgica',\n",
              " 'lwgica',\n",
              " 'lxgica',\n",
              " 'lygica',\n",
              " 'lzgica',\n",
              " 'làgica',\n",
              " 'lágica',\n",
              " 'lâgica',\n",
              " 'lãgica',\n",
              " 'lègica',\n",
              " 'légica',\n",
              " 'lêgica',\n",
              " 'lìgica',\n",
              " 'lígica',\n",
              " 'lîgica',\n",
              " 'lògica',\n",
              " 'lógica',\n",
              " 'lôgica',\n",
              " 'lõgica',\n",
              " 'lùgica',\n",
              " 'lúgica',\n",
              " 'lûgica',\n",
              " 'lçgica',\n",
              " 'lgaica',\n",
              " 'lgbica',\n",
              " 'lgcica',\n",
              " 'lgdica',\n",
              " 'lgeica',\n",
              " 'lgfica',\n",
              " 'lggica',\n",
              " 'lghica',\n",
              " 'lgiica',\n",
              " 'lgjica',\n",
              " 'lgkica',\n",
              " 'lglica',\n",
              " 'lgmica',\n",
              " 'lgnica',\n",
              " 'lgoica',\n",
              " 'lgpica',\n",
              " 'lgqica',\n",
              " 'lgrica',\n",
              " 'lgsica',\n",
              " 'lgtica',\n",
              " 'lguica',\n",
              " 'lgvica',\n",
              " 'lgwica',\n",
              " 'lgxica',\n",
              " 'lgyica',\n",
              " 'lgzica',\n",
              " 'lgàica',\n",
              " 'lgáica',\n",
              " 'lgâica',\n",
              " 'lgãica',\n",
              " 'lgèica',\n",
              " 'lgéica',\n",
              " 'lgêica',\n",
              " 'lgìica',\n",
              " 'lgíica',\n",
              " 'lgîica',\n",
              " 'lgòica',\n",
              " 'lgóica',\n",
              " 'lgôica',\n",
              " 'lgõica',\n",
              " 'lgùica',\n",
              " 'lgúica',\n",
              " 'lgûica',\n",
              " 'lgçica',\n",
              " 'lgiaca',\n",
              " 'lgibca',\n",
              " 'lgicca',\n",
              " 'lgidca',\n",
              " 'lgieca',\n",
              " 'lgifca',\n",
              " 'lgigca',\n",
              " 'lgihca',\n",
              " 'lgiica',\n",
              " 'lgijca',\n",
              " 'lgikca',\n",
              " 'lgilca',\n",
              " 'lgimca',\n",
              " 'lginca',\n",
              " 'lgioca',\n",
              " 'lgipca',\n",
              " 'lgiqca',\n",
              " 'lgirca',\n",
              " 'lgisca',\n",
              " 'lgitca',\n",
              " 'lgiuca',\n",
              " 'lgivca',\n",
              " 'lgiwca',\n",
              " 'lgixca',\n",
              " 'lgiyca',\n",
              " 'lgizca',\n",
              " 'lgiàca',\n",
              " 'lgiáca',\n",
              " 'lgiâca',\n",
              " 'lgiãca',\n",
              " 'lgièca',\n",
              " 'lgiéca',\n",
              " 'lgiêca',\n",
              " 'lgiìca',\n",
              " 'lgiíca',\n",
              " 'lgiîca',\n",
              " 'lgiòca',\n",
              " 'lgióca',\n",
              " 'lgiôca',\n",
              " 'lgiõca',\n",
              " 'lgiùca',\n",
              " 'lgiúca',\n",
              " 'lgiûca',\n",
              " 'lgiçca',\n",
              " 'lgicaa',\n",
              " 'lgicba',\n",
              " 'lgicca',\n",
              " 'lgicda',\n",
              " 'lgicea',\n",
              " 'lgicfa',\n",
              " 'lgicga',\n",
              " 'lgicha',\n",
              " 'lgicia',\n",
              " 'lgicja',\n",
              " 'lgicka',\n",
              " 'lgicla',\n",
              " 'lgicma',\n",
              " 'lgicna',\n",
              " 'lgicoa',\n",
              " 'lgicpa',\n",
              " 'lgicqa',\n",
              " 'lgicra',\n",
              " 'lgicsa',\n",
              " 'lgicta',\n",
              " 'lgicua',\n",
              " 'lgicva',\n",
              " 'lgicwa',\n",
              " 'lgicxa',\n",
              " 'lgicya',\n",
              " 'lgicza',\n",
              " 'lgicàa',\n",
              " 'lgicáa',\n",
              " 'lgicâa',\n",
              " 'lgicãa',\n",
              " 'lgicèa',\n",
              " 'lgicéa',\n",
              " 'lgicêa',\n",
              " 'lgicìa',\n",
              " 'lgicía',\n",
              " 'lgicîa',\n",
              " 'lgicòa',\n",
              " 'lgicóa',\n",
              " 'lgicôa',\n",
              " 'lgicõa',\n",
              " 'lgicùa',\n",
              " 'lgicúa',\n",
              " 'lgicûa',\n",
              " 'lgicça',\n",
              " 'lgicaa',\n",
              " 'lgicab',\n",
              " 'lgicac',\n",
              " 'lgicad',\n",
              " 'lgicae',\n",
              " 'lgicaf',\n",
              " 'lgicag',\n",
              " 'lgicah',\n",
              " 'lgicai',\n",
              " 'lgicaj',\n",
              " 'lgicak',\n",
              " 'lgical',\n",
              " 'lgicam',\n",
              " 'lgican',\n",
              " 'lgicao',\n",
              " 'lgicap',\n",
              " 'lgicaq',\n",
              " 'lgicar',\n",
              " 'lgicas',\n",
              " 'lgicat',\n",
              " 'lgicau',\n",
              " 'lgicav',\n",
              " 'lgicaw',\n",
              " 'lgicax',\n",
              " 'lgicay',\n",
              " 'lgicaz',\n",
              " 'lgicaà',\n",
              " 'lgicaá',\n",
              " 'lgicaâ',\n",
              " 'lgicaã',\n",
              " 'lgicaè',\n",
              " 'lgicaé',\n",
              " 'lgicaê',\n",
              " 'lgicaì',\n",
              " 'lgicaí',\n",
              " 'lgicaî',\n",
              " 'lgicaò',\n",
              " 'lgicaó',\n",
              " 'lgicaô',\n",
              " 'lgicaõ',\n",
              " 'lgicaù',\n",
              " 'lgicaú',\n",
              " 'lgicaû',\n",
              " 'lgicaç']"
            ]
          },
          "metadata": {
            "tags": []
          },
          "execution_count": 23
        }
      ]
    },
    {
      "cell_type": "code",
      "metadata": {
        "id": "eUoT7zTnwsqo"
      },
      "source": [
        "def corretor(palavra):\n",
        "  palavras_geradas = gerador_palavras(palavra)\n",
        "  palavra_correta = max(palavras_geradas, key=probabilidade)\n",
        "  return palavra_correta\n"
      ],
      "execution_count": null,
      "outputs": []
    },
    {
      "cell_type": "code",
      "metadata": {
        "id": "92TGNKxp0Rzb"
      },
      "source": [
        "frequencia = nltk.FreqDist(lista_normalizada)\n",
        "total_palavras = len(lista_normalizada)"
      ],
      "execution_count": null,
      "outputs": []
    },
    {
      "cell_type": "code",
      "metadata": {
        "colab": {
          "base_uri": "https://localhost:8080/"
        },
        "id": "FtIY696J06jE",
        "outputId": "f8643127-475b-486d-a2f0-9c48d4c376f1"
      },
      "source": [
        "def probabilidade(palavra_gerada):\n",
        "  return frequencia[palavra_gerada]/total_palavras\n",
        "\n",
        "probabilidade('lógica')"
      ],
      "execution_count": null,
      "outputs": [
        {
          "output_type": "execute_result",
          "data": {
            "text/plain": [
              "0.00022086039084673304"
            ]
          },
          "metadata": {
            "tags": []
          },
          "execution_count": 26
        }
      ]
    },
    {
      "cell_type": "code",
      "metadata": {
        "colab": {
          "base_uri": "https://localhost:8080/",
          "height": 53
        },
        "id": "0zdJuZLC1USM",
        "outputId": "3c3404cb-5bb3-428c-870f-a18df707ba3f"
      },
      "source": [
        "corretor(palavra)"
      ],
      "execution_count": null,
      "outputs": [
        {
          "output_type": "stream",
          "text": [
            "[('', 'lgica'), ('l', 'gica'), ('lg', 'ica'), ('lgi', 'ca'), ('lgic', 'a'), ('lgica', '')]\n"
          ],
          "name": "stdout"
        },
        {
          "output_type": "execute_result",
          "data": {
            "application/vnd.google.colaboratory.intrinsic+json": {
              "type": "string"
            },
            "text/plain": [
              "'lógica'"
            ]
          },
          "metadata": {
            "tags": []
          },
          "execution_count": 27
        }
      ]
    },
    {
      "cell_type": "code",
      "metadata": {
        "id": "3xE4gzXT2TTU"
      },
      "source": [
        "def cria_dados_teste(nome_arquivo):\n",
        "  lista_palavras_teste = []\n",
        "  f = open(nome_arquivo, 'r')\n",
        "  for linha in f:\n",
        "    correta, errada = linha.split()\n",
        "    lista_palavras_teste.append((correta, errada))\n",
        "  f.close()\n",
        "  return lista_palavras_teste\n",
        "\n",
        "lista_teste = cria_dados_teste('palavras.txt')\n",
        "lista_teste"
      ],
      "execution_count": null,
      "outputs": []
    },
    {
      "cell_type": "code",
      "metadata": {
        "id": "SwmNz0PbZ7eI"
      },
      "source": [
        "def avaliador(testes):\n",
        "  numero_palavras = len(testes)\n",
        "  acertou = 0\n",
        "  for correta, errada in testes:\n",
        "    palavra_corrigida = corretor(errada)\n",
        "    if palavra_corrigida == correta:\n",
        "      acertou = acertou + 1\n",
        "  taxa_acerto = (round(acertou*100 / numero_palavras, 2))\n",
        "  print(f\"{taxa_acerto}% de {numero_palavras} palavras\")\n",
        "\n",
        "avaliador(lista_teste)"
      ],
      "execution_count": null,
      "outputs": []
    },
    {
      "cell_type": "markdown",
      "metadata": {
        "id": "4CDWxY9ecJPG"
      },
      "source": [
        " Implementando o delete de caracteres"
      ]
    },
    {
      "cell_type": "code",
      "metadata": {
        "id": "6aSsH3Pgbt4J"
      },
      "source": [
        "def deletando_caracteres(fatias):\n",
        "    novas_palavras = []\n",
        "    for E, D in fatias:\n",
        "        novas_palavras.append(E + D[1:])\n",
        "    return novas_palavras"
      ],
      "execution_count": null,
      "outputs": []
    },
    {
      "cell_type": "markdown",
      "metadata": {
        "id": "s8sUapbrddHA"
      },
      "source": [
        "Aprimorando o gerador de palavras"
      ]
    },
    {
      "cell_type": "code",
      "metadata": {
        "colab": {
          "base_uri": "https://localhost:8080/"
        },
        "id": "1vekg_jHsuKT",
        "outputId": "e6eeda4a-d55c-4511-9b08-a37c09c3e0d1"
      },
      "source": [
        "def gerador_palavras(palavra):\n",
        "    fatias = []\n",
        "    for i in range(len(palavra)+1):\n",
        "        fatias.append((palavra[:i],palavra[i:]))\n",
        "    palavras_geradas = insere_letras(fatias)\n",
        "    palavras_geradas += deletando_caracteres(fatias)\n",
        "    return palavras_geradas\n",
        "palavra_exemplo = \"lóigica\"\n",
        "palavras_geradas = gerador_palavras(palavra_exemplo)\n",
        "print(palavras_geradas)"
      ],
      "execution_count": null,
      "outputs": [
        {
          "output_type": "stream",
          "text": [
            "['alóigica', 'blóigica', 'clóigica', 'dlóigica', 'elóigica', 'flóigica', 'glóigica', 'hlóigica', 'ilóigica', 'jlóigica', 'klóigica', 'llóigica', 'mlóigica', 'nlóigica', 'olóigica', 'plóigica', 'qlóigica', 'rlóigica', 'slóigica', 'tlóigica', 'ulóigica', 'vlóigica', 'wlóigica', 'xlóigica', 'ylóigica', 'zlóigica', 'àlóigica', 'álóigica', 'âlóigica', 'ãlóigica', 'èlóigica', 'élóigica', 'êlóigica', 'ìlóigica', 'ílóigica', 'îlóigica', 'òlóigica', 'ólóigica', 'ôlóigica', 'õlóigica', 'ùlóigica', 'úlóigica', 'ûlóigica', 'çlóigica', 'laóigica', 'lbóigica', 'lcóigica', 'ldóigica', 'leóigica', 'lfóigica', 'lgóigica', 'lhóigica', 'lióigica', 'ljóigica', 'lkóigica', 'llóigica', 'lmóigica', 'lnóigica', 'loóigica', 'lpóigica', 'lqóigica', 'lróigica', 'lsóigica', 'ltóigica', 'luóigica', 'lvóigica', 'lwóigica', 'lxóigica', 'lyóigica', 'lzóigica', 'làóigica', 'láóigica', 'lâóigica', 'lãóigica', 'lèóigica', 'léóigica', 'lêóigica', 'lìóigica', 'líóigica', 'lîóigica', 'lòóigica', 'lóóigica', 'lôóigica', 'lõóigica', 'lùóigica', 'lúóigica', 'lûóigica', 'lçóigica', 'lóaigica', 'lóbigica', 'lócigica', 'lódigica', 'lóeigica', 'lófigica', 'lógigica', 'lóhigica', 'lóiigica', 'lójigica', 'lókigica', 'lóligica', 'lómigica', 'lónigica', 'lóoigica', 'lópigica', 'lóqigica', 'lórigica', 'lósigica', 'lótigica', 'lóuigica', 'lóvigica', 'lówigica', 'lóxigica', 'lóyigica', 'lózigica', 'lóàigica', 'lóáigica', 'lóâigica', 'lóãigica', 'lóèigica', 'lóéigica', 'lóêigica', 'lóìigica', 'lóíigica', 'lóîigica', 'lóòigica', 'lóóigica', 'lóôigica', 'lóõigica', 'lóùigica', 'lóúigica', 'lóûigica', 'lóçigica', 'lóiagica', 'lóibgica', 'lóicgica', 'lóidgica', 'lóiegica', 'lóifgica', 'lóiggica', 'lóihgica', 'lóiigica', 'lóijgica', 'lóikgica', 'lóilgica', 'lóimgica', 'lóingica', 'lóiogica', 'lóipgica', 'lóiqgica', 'lóirgica', 'lóisgica', 'lóitgica', 'lóiugica', 'lóivgica', 'lóiwgica', 'lóixgica', 'lóiygica', 'lóizgica', 'lóiàgica', 'lóiágica', 'lóiâgica', 'lóiãgica', 'lóiègica', 'lóiégica', 'lóiêgica', 'lóiìgica', 'lóiígica', 'lóiîgica', 'lóiògica', 'lóiógica', 'lóiôgica', 'lóiõgica', 'lóiùgica', 'lóiúgica', 'lóiûgica', 'lóiçgica', 'lóigaica', 'lóigbica', 'lóigcica', 'lóigdica', 'lóigeica', 'lóigfica', 'lóiggica', 'lóighica', 'lóigiica', 'lóigjica', 'lóigkica', 'lóiglica', 'lóigmica', 'lóignica', 'lóigoica', 'lóigpica', 'lóigqica', 'lóigrica', 'lóigsica', 'lóigtica', 'lóiguica', 'lóigvica', 'lóigwica', 'lóigxica', 'lóigyica', 'lóigzica', 'lóigàica', 'lóigáica', 'lóigâica', 'lóigãica', 'lóigèica', 'lóigéica', 'lóigêica', 'lóigìica', 'lóigíica', 'lóigîica', 'lóigòica', 'lóigóica', 'lóigôica', 'lóigõica', 'lóigùica', 'lóigúica', 'lóigûica', 'lóigçica', 'lóigiaca', 'lóigibca', 'lóigicca', 'lóigidca', 'lóigieca', 'lóigifca', 'lóigigca', 'lóigihca', 'lóigiica', 'lóigijca', 'lóigikca', 'lóigilca', 'lóigimca', 'lóiginca', 'lóigioca', 'lóigipca', 'lóigiqca', 'lóigirca', 'lóigisca', 'lóigitca', 'lóigiuca', 'lóigivca', 'lóigiwca', 'lóigixca', 'lóigiyca', 'lóigizca', 'lóigiàca', 'lóigiáca', 'lóigiâca', 'lóigiãca', 'lóigièca', 'lóigiéca', 'lóigiêca', 'lóigiìca', 'lóigiíca', 'lóigiîca', 'lóigiòca', 'lóigióca', 'lóigiôca', 'lóigiõca', 'lóigiùca', 'lóigiúca', 'lóigiûca', 'lóigiçca', 'lóigicaa', 'lóigicba', 'lóigicca', 'lóigicda', 'lóigicea', 'lóigicfa', 'lóigicga', 'lóigicha', 'lóigicia', 'lóigicja', 'lóigicka', 'lóigicla', 'lóigicma', 'lóigicna', 'lóigicoa', 'lóigicpa', 'lóigicqa', 'lóigicra', 'lóigicsa', 'lóigicta', 'lóigicua', 'lóigicva', 'lóigicwa', 'lóigicxa', 'lóigicya', 'lóigicza', 'lóigicàa', 'lóigicáa', 'lóigicâa', 'lóigicãa', 'lóigicèa', 'lóigicéa', 'lóigicêa', 'lóigicìa', 'lóigicía', 'lóigicîa', 'lóigicòa', 'lóigicóa', 'lóigicôa', 'lóigicõa', 'lóigicùa', 'lóigicúa', 'lóigicûa', 'lóigicça', 'lóigicaa', 'lóigicab', 'lóigicac', 'lóigicad', 'lóigicae', 'lóigicaf', 'lóigicag', 'lóigicah', 'lóigicai', 'lóigicaj', 'lóigicak', 'lóigical', 'lóigicam', 'lóigican', 'lóigicao', 'lóigicap', 'lóigicaq', 'lóigicar', 'lóigicas', 'lóigicat', 'lóigicau', 'lóigicav', 'lóigicaw', 'lóigicax', 'lóigicay', 'lóigicaz', 'lóigicaà', 'lóigicaá', 'lóigicaâ', 'lóigicaã', 'lóigicaè', 'lóigicaé', 'lóigicaê', 'lóigicaì', 'lóigicaí', 'lóigicaî', 'lóigicaò', 'lóigicaó', 'lóigicaô', 'lóigicaõ', 'lóigicaù', 'lóigicaú', 'lóigicaû', 'lóigicaç', 'óigica', 'ligica', 'lógica', 'lóiica', 'lóigca', 'lóigia', 'lóigic', 'lóigica']\n"
          ],
          "name": "stdout"
        }
      ]
    },
    {
      "cell_type": "code",
      "metadata": {
        "colab": {
          "base_uri": "https://localhost:8080/"
        },
        "id": "04dUepbxsT2-",
        "outputId": "db2036bd-2429-4005-8dce-6b8c80ebde21"
      },
      "source": [
        "avaliador(lista_teste)"
      ],
      "execution_count": null,
      "outputs": [
        {
          "output_type": "stream",
          "text": [
            "41.4% de 186 palavras\n"
          ],
          "name": "stdout"
        }
      ]
    },
    {
      "cell_type": "markdown",
      "metadata": {
        "id": "v1ZsRIUr-ZHp"
      },
      "source": [
        "Implementando a troca de letras"
      ]
    },
    {
      "cell_type": "code",
      "metadata": {
        "id": "u24CnylssWtr",
        "colab": {
          "base_uri": "https://localhost:8080/"
        },
        "outputId": "64a822c9-7410-4a5e-c0ca-cfbaa372b168"
      },
      "source": [
        "def insere_letras(fatias):\n",
        "   novas_palavras = []\n",
        "   letras = 'abcdefghijklmnopqrstuvwxyzàáâãèéêìíîòóôõùúûç'\n",
        "   for E, D in fatias:\n",
        "       for letra in letras:\n",
        "         novas_palavras.append(E + letra + D)\n",
        "   return novas_palavras\n",
        "\n",
        "def deletando_caracteres(fatias):\n",
        "    novas_palavras = []\n",
        "    for E, D in fatias:\n",
        "        novas_palavras.append(E + D[1:])\n",
        "    return novas_palavras\n",
        "\n",
        "def troca_letra(fatias):\n",
        "    novas_palavras = []\n",
        "    letras = 'abcdefghijklmnopqrstuvwxyzáàãâéèêíìóòõôúùûç'\n",
        "    for E, D in fatias:\n",
        "        for letra in letras:\n",
        "            novas_palavras.append(E + letra + D[1:])\n",
        "    return novas_palavras\n",
        "\n",
        "def gerador_palavras(palavra):\n",
        "    fatias = []\n",
        "    for i in range(len(palavra)+1):\n",
        "        fatias.append((palavra[:i],palavra[i:]))\n",
        "    palavras_geradas = insere_letras(fatias)\n",
        "    palavras_geradas += deletando_caracteres(fatias)\n",
        "    palavras_geradas += troca_letra(fatias)\n",
        "    return palavras_geradas\n",
        "\n",
        "\n",
        "palavra_exemplo = \"ligica\"\n",
        "palavras_geradas = gerador_palavras(palavra_exemplo)\n",
        "print(palavras_geradas)"
      ],
      "execution_count": null,
      "outputs": [
        {
          "output_type": "stream",
          "text": [
            "['aligica', 'bligica', 'cligica', 'dligica', 'eligica', 'fligica', 'gligica', 'hligica', 'iligica', 'jligica', 'kligica', 'lligica', 'mligica', 'nligica', 'oligica', 'pligica', 'qligica', 'rligica', 'sligica', 'tligica', 'uligica', 'vligica', 'wligica', 'xligica', 'yligica', 'zligica', 'àligica', 'áligica', 'âligica', 'ãligica', 'èligica', 'éligica', 'êligica', 'ìligica', 'íligica', 'îligica', 'òligica', 'óligica', 'ôligica', 'õligica', 'ùligica', 'úligica', 'ûligica', 'çligica', 'laigica', 'lbigica', 'lcigica', 'ldigica', 'leigica', 'lfigica', 'lgigica', 'lhigica', 'liigica', 'ljigica', 'lkigica', 'lligica', 'lmigica', 'lnigica', 'loigica', 'lpigica', 'lqigica', 'lrigica', 'lsigica', 'ltigica', 'luigica', 'lvigica', 'lwigica', 'lxigica', 'lyigica', 'lzigica', 'làigica', 'láigica', 'lâigica', 'lãigica', 'lèigica', 'léigica', 'lêigica', 'lìigica', 'líigica', 'lîigica', 'lòigica', 'lóigica', 'lôigica', 'lõigica', 'lùigica', 'lúigica', 'lûigica', 'lçigica', 'liagica', 'libgica', 'licgica', 'lidgica', 'liegica', 'lifgica', 'liggica', 'lihgica', 'liigica', 'lijgica', 'likgica', 'lilgica', 'limgica', 'lingica', 'liogica', 'lipgica', 'liqgica', 'lirgica', 'lisgica', 'litgica', 'liugica', 'livgica', 'liwgica', 'lixgica', 'liygica', 'lizgica', 'liàgica', 'liágica', 'liâgica', 'liãgica', 'liègica', 'liégica', 'liêgica', 'liìgica', 'liígica', 'liîgica', 'liògica', 'liógica', 'liôgica', 'liõgica', 'liùgica', 'liúgica', 'liûgica', 'liçgica', 'ligaica', 'ligbica', 'ligcica', 'ligdica', 'ligeica', 'ligfica', 'liggica', 'lighica', 'ligiica', 'ligjica', 'ligkica', 'liglica', 'ligmica', 'lignica', 'ligoica', 'ligpica', 'ligqica', 'ligrica', 'ligsica', 'ligtica', 'liguica', 'ligvica', 'ligwica', 'ligxica', 'ligyica', 'ligzica', 'ligàica', 'ligáica', 'ligâica', 'ligãica', 'ligèica', 'ligéica', 'ligêica', 'ligìica', 'ligíica', 'ligîica', 'ligòica', 'ligóica', 'ligôica', 'ligõica', 'ligùica', 'ligúica', 'ligûica', 'ligçica', 'ligiaca', 'ligibca', 'ligicca', 'ligidca', 'ligieca', 'ligifca', 'ligigca', 'ligihca', 'ligiica', 'ligijca', 'ligikca', 'ligilca', 'ligimca', 'liginca', 'ligioca', 'ligipca', 'ligiqca', 'ligirca', 'ligisca', 'ligitca', 'ligiuca', 'ligivca', 'ligiwca', 'ligixca', 'ligiyca', 'ligizca', 'ligiàca', 'ligiáca', 'ligiâca', 'ligiãca', 'ligièca', 'ligiéca', 'ligiêca', 'ligiìca', 'ligiíca', 'ligiîca', 'ligiòca', 'ligióca', 'ligiôca', 'ligiõca', 'ligiùca', 'ligiúca', 'ligiûca', 'ligiçca', 'ligicaa', 'ligicba', 'ligicca', 'ligicda', 'ligicea', 'ligicfa', 'ligicga', 'ligicha', 'ligicia', 'ligicja', 'ligicka', 'ligicla', 'ligicma', 'ligicna', 'ligicoa', 'ligicpa', 'ligicqa', 'ligicra', 'ligicsa', 'ligicta', 'ligicua', 'ligicva', 'ligicwa', 'ligicxa', 'ligicya', 'ligicza', 'ligicàa', 'ligicáa', 'ligicâa', 'ligicãa', 'ligicèa', 'ligicéa', 'ligicêa', 'ligicìa', 'ligicía', 'ligicîa', 'ligicòa', 'ligicóa', 'ligicôa', 'ligicõa', 'ligicùa', 'ligicúa', 'ligicûa', 'ligicça', 'ligicaa', 'ligicab', 'ligicac', 'ligicad', 'ligicae', 'ligicaf', 'ligicag', 'ligicah', 'ligicai', 'ligicaj', 'ligicak', 'ligical', 'ligicam', 'ligican', 'ligicao', 'ligicap', 'ligicaq', 'ligicar', 'ligicas', 'ligicat', 'ligicau', 'ligicav', 'ligicaw', 'ligicax', 'ligicay', 'ligicaz', 'ligicaà', 'ligicaá', 'ligicaâ', 'ligicaã', 'ligicaè', 'ligicaé', 'ligicaê', 'ligicaì', 'ligicaí', 'ligicaî', 'ligicaò', 'ligicaó', 'ligicaô', 'ligicaõ', 'ligicaù', 'ligicaú', 'ligicaû', 'ligicaç', 'igica', 'lgica', 'liica', 'ligca', 'ligia', 'ligic', 'ligica', 'aigica', 'bigica', 'cigica', 'digica', 'eigica', 'figica', 'gigica', 'higica', 'iigica', 'jigica', 'kigica', 'ligica', 'migica', 'nigica', 'oigica', 'pigica', 'qigica', 'rigica', 'sigica', 'tigica', 'uigica', 'vigica', 'wigica', 'xigica', 'yigica', 'zigica', 'áigica', 'àigica', 'ãigica', 'âigica', 'éigica', 'èigica', 'êigica', 'íigica', 'ìigica', 'óigica', 'òigica', 'õigica', 'ôigica', 'úigica', 'ùigica', 'ûigica', 'çigica', 'lagica', 'lbgica', 'lcgica', 'ldgica', 'legica', 'lfgica', 'lggica', 'lhgica', 'ligica', 'ljgica', 'lkgica', 'llgica', 'lmgica', 'lngica', 'logica', 'lpgica', 'lqgica', 'lrgica', 'lsgica', 'ltgica', 'lugica', 'lvgica', 'lwgica', 'lxgica', 'lygica', 'lzgica', 'lágica', 'làgica', 'lãgica', 'lâgica', 'légica', 'lègica', 'lêgica', 'lígica', 'lìgica', 'lógica', 'lògica', 'lõgica', 'lôgica', 'lúgica', 'lùgica', 'lûgica', 'lçgica', 'liaica', 'libica', 'licica', 'lidica', 'lieica', 'lifica', 'ligica', 'lihica', 'liiica', 'lijica', 'likica', 'lilica', 'limica', 'linica', 'lioica', 'lipica', 'liqica', 'lirica', 'lisica', 'litica', 'liuica', 'livica', 'liwica', 'lixica', 'liyica', 'lizica', 'liáica', 'liàica', 'liãica', 'liâica', 'liéica', 'lièica', 'liêica', 'liíica', 'liìica', 'lióica', 'liòica', 'liõica', 'liôica', 'liúica', 'liùica', 'liûica', 'liçica', 'ligaca', 'ligbca', 'ligcca', 'ligdca', 'ligeca', 'ligfca', 'liggca', 'lighca', 'ligica', 'ligjca', 'ligkca', 'liglca', 'ligmca', 'lignca', 'ligoca', 'ligpca', 'ligqca', 'ligrca', 'ligsca', 'ligtca', 'liguca', 'ligvca', 'ligwca', 'ligxca', 'ligyca', 'ligzca', 'ligáca', 'ligàca', 'ligãca', 'ligâca', 'ligéca', 'ligèca', 'ligêca', 'ligíca', 'ligìca', 'ligóca', 'ligòca', 'ligõca', 'ligôca', 'ligúca', 'ligùca', 'ligûca', 'ligçca', 'ligiaa', 'ligiba', 'ligica', 'ligida', 'ligiea', 'ligifa', 'ligiga', 'ligiha', 'ligiia', 'ligija', 'ligika', 'ligila', 'ligima', 'ligina', 'ligioa', 'ligipa', 'ligiqa', 'ligira', 'ligisa', 'ligita', 'ligiua', 'ligiva', 'ligiwa', 'ligixa', 'ligiya', 'ligiza', 'ligiáa', 'ligiàa', 'ligiãa', 'ligiâa', 'ligiéa', 'ligièa', 'ligiêa', 'ligiía', 'ligiìa', 'ligióa', 'ligiòa', 'ligiõa', 'ligiôa', 'ligiúa', 'ligiùa', 'ligiûa', 'ligiça', 'ligica', 'ligicb', 'ligicc', 'ligicd', 'ligice', 'ligicf', 'ligicg', 'ligich', 'ligici', 'ligicj', 'ligick', 'ligicl', 'ligicm', 'ligicn', 'ligico', 'ligicp', 'ligicq', 'ligicr', 'ligics', 'ligict', 'ligicu', 'ligicv', 'ligicw', 'ligicx', 'ligicy', 'ligicz', 'ligicá', 'ligicà', 'ligicã', 'ligicâ', 'ligicé', 'ligicè', 'ligicê', 'ligicí', 'ligicì', 'ligicó', 'ligicò', 'ligicõ', 'ligicô', 'ligicú', 'ligicù', 'ligicû', 'ligicç', 'ligicaa', 'ligicab', 'ligicac', 'ligicad', 'ligicae', 'ligicaf', 'ligicag', 'ligicah', 'ligicai', 'ligicaj', 'ligicak', 'ligical', 'ligicam', 'ligican', 'ligicao', 'ligicap', 'ligicaq', 'ligicar', 'ligicas', 'ligicat', 'ligicau', 'ligicav', 'ligicaw', 'ligicax', 'ligicay', 'ligicaz', 'ligicaá', 'ligicaà', 'ligicaã', 'ligicaâ', 'ligicaé', 'ligicaè', 'ligicaê', 'ligicaí', 'ligicaì', 'ligicaó', 'ligicaò', 'ligicaõ', 'ligicaô', 'ligicaú', 'ligicaù', 'ligicaû', 'ligicaç']\n"
          ],
          "name": "stdout"
        }
      ]
    },
    {
      "cell_type": "markdown",
      "metadata": {
        "id": "IBSDLRORQWWN"
      },
      "source": [
        "Implementando Inversão de Letras"
      ]
    },
    {
      "cell_type": "code",
      "metadata": {
        "id": "0XF967lCKdUi"
      },
      "source": [
        "def inverte_letra(fatias):\n",
        "    novas_palavras = []\n",
        "    for E, D in fatias:\n",
        "      if len(D) > 1:\n",
        "          novas_palavras.append(E + D[1] + D[0] + D[2:])\n",
        "    return novas_palavras"
      ],
      "execution_count": null,
      "outputs": []
    },
    {
      "cell_type": "code",
      "metadata": {
        "colab": {
          "base_uri": "https://localhost:8080/"
        },
        "id": "RiOyA7m6SXJ-",
        "outputId": "f9b96554-bf21-44a2-c3cc-a4c38b7fef94"
      },
      "source": [
        "def insere_letras(fatias):\n",
        "   novas_palavras = []\n",
        "   letras = 'abcdefghijklmnopqrstuvwxyzàáâãèéêìíîòóôõùúûç'\n",
        "   for E, D in fatias:\n",
        "       for letra in letras:\n",
        "         novas_palavras.append(E + letra + D)\n",
        "   return novas_palavras\n",
        "\n",
        "def deletando_caracteres(fatias):\n",
        "    novas_palavras = []\n",
        "    for E, D in fatias:\n",
        "        novas_palavras.append(E + D[1:])\n",
        "    return novas_palavras\n",
        "\n",
        "def troca_letra(fatias):\n",
        "    novas_palavras = []\n",
        "    letras = 'abcdefghijklmnopqrstuvwxyzáàãâéèêíìóòõôúùûç'\n",
        "    for E, D in fatias:\n",
        "        for letra in letras:\n",
        "            novas_palavras.append(E + letra + D[1:])\n",
        "    return novas_palavras\n",
        "\n",
        "def inverte_letra(fatias):\n",
        "    novas_palavras = []\n",
        "    for E, D in fatias:\n",
        "      if len(D) > 1:\n",
        "          novas_palavras.append(E + D[1] + D[0] + D[2:])\n",
        "    return novas_palavras\n",
        "\n",
        "def gerador_palavras(palavra):\n",
        "    fatias = []\n",
        "    for i in range(len(palavra)+1):\n",
        "        fatias.append((palavra[:i],palavra[i:]))\n",
        "    palavras_geradas = insere_letras(fatias)\n",
        "    palavras_geradas += deletando_caracteres(fatias)\n",
        "    palavras_geradas += troca_letra(fatias)\n",
        "    palavras_geradas += inverte_letra(fatias)\n",
        "    return palavras_geradas\n",
        "\n",
        "\n",
        "palavra_exemplo = \"lgóica\"\n",
        "palavras_geradas = gerador_palavras(palavra_exemplo)\n",
        "print(palavras_geradas)"
      ],
      "execution_count": null,
      "outputs": [
        {
          "output_type": "stream",
          "text": [
            "['algóica', 'blgóica', 'clgóica', 'dlgóica', 'elgóica', 'flgóica', 'glgóica', 'hlgóica', 'ilgóica', 'jlgóica', 'klgóica', 'llgóica', 'mlgóica', 'nlgóica', 'olgóica', 'plgóica', 'qlgóica', 'rlgóica', 'slgóica', 'tlgóica', 'ulgóica', 'vlgóica', 'wlgóica', 'xlgóica', 'ylgóica', 'zlgóica', 'àlgóica', 'álgóica', 'âlgóica', 'ãlgóica', 'èlgóica', 'élgóica', 'êlgóica', 'ìlgóica', 'ílgóica', 'îlgóica', 'òlgóica', 'ólgóica', 'ôlgóica', 'õlgóica', 'ùlgóica', 'úlgóica', 'ûlgóica', 'çlgóica', 'lagóica', 'lbgóica', 'lcgóica', 'ldgóica', 'legóica', 'lfgóica', 'lggóica', 'lhgóica', 'ligóica', 'ljgóica', 'lkgóica', 'llgóica', 'lmgóica', 'lngóica', 'logóica', 'lpgóica', 'lqgóica', 'lrgóica', 'lsgóica', 'ltgóica', 'lugóica', 'lvgóica', 'lwgóica', 'lxgóica', 'lygóica', 'lzgóica', 'làgóica', 'lágóica', 'lâgóica', 'lãgóica', 'lègóica', 'légóica', 'lêgóica', 'lìgóica', 'lígóica', 'lîgóica', 'lògóica', 'lógóica', 'lôgóica', 'lõgóica', 'lùgóica', 'lúgóica', 'lûgóica', 'lçgóica', 'lgaóica', 'lgbóica', 'lgcóica', 'lgdóica', 'lgeóica', 'lgfóica', 'lggóica', 'lghóica', 'lgióica', 'lgjóica', 'lgkóica', 'lglóica', 'lgmóica', 'lgnóica', 'lgoóica', 'lgpóica', 'lgqóica', 'lgróica', 'lgsóica', 'lgtóica', 'lguóica', 'lgvóica', 'lgwóica', 'lgxóica', 'lgyóica', 'lgzóica', 'lgàóica', 'lgáóica', 'lgâóica', 'lgãóica', 'lgèóica', 'lgéóica', 'lgêóica', 'lgìóica', 'lgíóica', 'lgîóica', 'lgòóica', 'lgóóica', 'lgôóica', 'lgõóica', 'lgùóica', 'lgúóica', 'lgûóica', 'lgçóica', 'lgóaica', 'lgóbica', 'lgócica', 'lgódica', 'lgóeica', 'lgófica', 'lgógica', 'lgóhica', 'lgóiica', 'lgójica', 'lgókica', 'lgólica', 'lgómica', 'lgónica', 'lgóoica', 'lgópica', 'lgóqica', 'lgórica', 'lgósica', 'lgótica', 'lgóuica', 'lgóvica', 'lgówica', 'lgóxica', 'lgóyica', 'lgózica', 'lgóàica', 'lgóáica', 'lgóâica', 'lgóãica', 'lgóèica', 'lgóéica', 'lgóêica', 'lgóìica', 'lgóíica', 'lgóîica', 'lgóòica', 'lgóóica', 'lgóôica', 'lgóõica', 'lgóùica', 'lgóúica', 'lgóûica', 'lgóçica', 'lgóiaca', 'lgóibca', 'lgóicca', 'lgóidca', 'lgóieca', 'lgóifca', 'lgóigca', 'lgóihca', 'lgóiica', 'lgóijca', 'lgóikca', 'lgóilca', 'lgóimca', 'lgóinca', 'lgóioca', 'lgóipca', 'lgóiqca', 'lgóirca', 'lgóisca', 'lgóitca', 'lgóiuca', 'lgóivca', 'lgóiwca', 'lgóixca', 'lgóiyca', 'lgóizca', 'lgóiàca', 'lgóiáca', 'lgóiâca', 'lgóiãca', 'lgóièca', 'lgóiéca', 'lgóiêca', 'lgóiìca', 'lgóiíca', 'lgóiîca', 'lgóiòca', 'lgóióca', 'lgóiôca', 'lgóiõca', 'lgóiùca', 'lgóiúca', 'lgóiûca', 'lgóiçca', 'lgóicaa', 'lgóicba', 'lgóicca', 'lgóicda', 'lgóicea', 'lgóicfa', 'lgóicga', 'lgóicha', 'lgóicia', 'lgóicja', 'lgóicka', 'lgóicla', 'lgóicma', 'lgóicna', 'lgóicoa', 'lgóicpa', 'lgóicqa', 'lgóicra', 'lgóicsa', 'lgóicta', 'lgóicua', 'lgóicva', 'lgóicwa', 'lgóicxa', 'lgóicya', 'lgóicza', 'lgóicàa', 'lgóicáa', 'lgóicâa', 'lgóicãa', 'lgóicèa', 'lgóicéa', 'lgóicêa', 'lgóicìa', 'lgóicía', 'lgóicîa', 'lgóicòa', 'lgóicóa', 'lgóicôa', 'lgóicõa', 'lgóicùa', 'lgóicúa', 'lgóicûa', 'lgóicça', 'lgóicaa', 'lgóicab', 'lgóicac', 'lgóicad', 'lgóicae', 'lgóicaf', 'lgóicag', 'lgóicah', 'lgóicai', 'lgóicaj', 'lgóicak', 'lgóical', 'lgóicam', 'lgóican', 'lgóicao', 'lgóicap', 'lgóicaq', 'lgóicar', 'lgóicas', 'lgóicat', 'lgóicau', 'lgóicav', 'lgóicaw', 'lgóicax', 'lgóicay', 'lgóicaz', 'lgóicaà', 'lgóicaá', 'lgóicaâ', 'lgóicaã', 'lgóicaè', 'lgóicaé', 'lgóicaê', 'lgóicaì', 'lgóicaí', 'lgóicaî', 'lgóicaò', 'lgóicaó', 'lgóicaô', 'lgóicaõ', 'lgóicaù', 'lgóicaú', 'lgóicaû', 'lgóicaç', 'góica', 'lóica', 'lgica', 'lgóca', 'lgóia', 'lgóic', 'lgóica', 'agóica', 'bgóica', 'cgóica', 'dgóica', 'egóica', 'fgóica', 'ggóica', 'hgóica', 'igóica', 'jgóica', 'kgóica', 'lgóica', 'mgóica', 'ngóica', 'ogóica', 'pgóica', 'qgóica', 'rgóica', 'sgóica', 'tgóica', 'ugóica', 'vgóica', 'wgóica', 'xgóica', 'ygóica', 'zgóica', 'ágóica', 'àgóica', 'ãgóica', 'âgóica', 'égóica', 'ègóica', 'êgóica', 'ígóica', 'ìgóica', 'ógóica', 'ògóica', 'õgóica', 'ôgóica', 'úgóica', 'ùgóica', 'ûgóica', 'çgóica', 'laóica', 'lbóica', 'lcóica', 'ldóica', 'leóica', 'lfóica', 'lgóica', 'lhóica', 'lióica', 'ljóica', 'lkóica', 'llóica', 'lmóica', 'lnóica', 'loóica', 'lpóica', 'lqóica', 'lróica', 'lsóica', 'ltóica', 'luóica', 'lvóica', 'lwóica', 'lxóica', 'lyóica', 'lzóica', 'láóica', 'làóica', 'lãóica', 'lâóica', 'léóica', 'lèóica', 'lêóica', 'líóica', 'lìóica', 'lóóica', 'lòóica', 'lõóica', 'lôóica', 'lúóica', 'lùóica', 'lûóica', 'lçóica', 'lgaica', 'lgbica', 'lgcica', 'lgdica', 'lgeica', 'lgfica', 'lggica', 'lghica', 'lgiica', 'lgjica', 'lgkica', 'lglica', 'lgmica', 'lgnica', 'lgoica', 'lgpica', 'lgqica', 'lgrica', 'lgsica', 'lgtica', 'lguica', 'lgvica', 'lgwica', 'lgxica', 'lgyica', 'lgzica', 'lgáica', 'lgàica', 'lgãica', 'lgâica', 'lgéica', 'lgèica', 'lgêica', 'lgíica', 'lgìica', 'lgóica', 'lgòica', 'lgõica', 'lgôica', 'lgúica', 'lgùica', 'lgûica', 'lgçica', 'lgóaca', 'lgóbca', 'lgócca', 'lgódca', 'lgóeca', 'lgófca', 'lgógca', 'lgóhca', 'lgóica', 'lgójca', 'lgókca', 'lgólca', 'lgómca', 'lgónca', 'lgóoca', 'lgópca', 'lgóqca', 'lgórca', 'lgósca', 'lgótca', 'lgóuca', 'lgóvca', 'lgówca', 'lgóxca', 'lgóyca', 'lgózca', 'lgóáca', 'lgóàca', 'lgóãca', 'lgóâca', 'lgóéca', 'lgóèca', 'lgóêca', 'lgóíca', 'lgóìca', 'lgóóca', 'lgóòca', 'lgóõca', 'lgóôca', 'lgóúca', 'lgóùca', 'lgóûca', 'lgóçca', 'lgóiaa', 'lgóiba', 'lgóica', 'lgóida', 'lgóiea', 'lgóifa', 'lgóiga', 'lgóiha', 'lgóiia', 'lgóija', 'lgóika', 'lgóila', 'lgóima', 'lgóina', 'lgóioa', 'lgóipa', 'lgóiqa', 'lgóira', 'lgóisa', 'lgóita', 'lgóiua', 'lgóiva', 'lgóiwa', 'lgóixa', 'lgóiya', 'lgóiza', 'lgóiáa', 'lgóiàa', 'lgóiãa', 'lgóiâa', 'lgóiéa', 'lgóièa', 'lgóiêa', 'lgóiía', 'lgóiìa', 'lgóióa', 'lgóiòa', 'lgóiõa', 'lgóiôa', 'lgóiúa', 'lgóiùa', 'lgóiûa', 'lgóiça', 'lgóica', 'lgóicb', 'lgóicc', 'lgóicd', 'lgóice', 'lgóicf', 'lgóicg', 'lgóich', 'lgóici', 'lgóicj', 'lgóick', 'lgóicl', 'lgóicm', 'lgóicn', 'lgóico', 'lgóicp', 'lgóicq', 'lgóicr', 'lgóics', 'lgóict', 'lgóicu', 'lgóicv', 'lgóicw', 'lgóicx', 'lgóicy', 'lgóicz', 'lgóicá', 'lgóicà', 'lgóicã', 'lgóicâ', 'lgóicé', 'lgóicè', 'lgóicê', 'lgóicí', 'lgóicì', 'lgóicó', 'lgóicò', 'lgóicõ', 'lgóicô', 'lgóicú', 'lgóicù', 'lgóicû', 'lgóicç', 'lgóicaa', 'lgóicab', 'lgóicac', 'lgóicad', 'lgóicae', 'lgóicaf', 'lgóicag', 'lgóicah', 'lgóicai', 'lgóicaj', 'lgóicak', 'lgóical', 'lgóicam', 'lgóican', 'lgóicao', 'lgóicap', 'lgóicaq', 'lgóicar', 'lgóicas', 'lgóicat', 'lgóicau', 'lgóicav', 'lgóicaw', 'lgóicax', 'lgóicay', 'lgóicaz', 'lgóicaá', 'lgóicaà', 'lgóicaã', 'lgóicaâ', 'lgóicaé', 'lgóicaè', 'lgóicaê', 'lgóicaí', 'lgóicaì', 'lgóicaó', 'lgóicaò', 'lgóicaõ', 'lgóicaô', 'lgóicaú', 'lgóicaù', 'lgóicaû', 'lgóicaç', 'glóica', 'lógica', 'lgióca', 'lgócia', 'lgóiac']\n"
          ],
          "name": "stdout"
        }
      ]
    },
    {
      "cell_type": "code",
      "metadata": {
        "colab": {
          "base_uri": "https://localhost:8080/"
        },
        "id": "yn-U23j9StIg",
        "outputId": "2276824e-1c4e-4c77-d134-b15b3ea8a31c"
      },
      "source": [
        "avaliador(lista_teste)"
      ],
      "execution_count": null,
      "outputs": [
        {
          "output_type": "stream",
          "text": [
            "76.34% de 186 palavras\n"
          ],
          "name": "stdout"
        }
      ]
    },
    {
      "cell_type": "code",
      "metadata": {
        "colab": {
          "base_uri": "https://localhost:8080/"
        },
        "id": "xg9AmYsPTeh1",
        "outputId": "2751d52b-6772-4089-9102-8be67b52d5c7"
      },
      "source": [
        "def avaliador(testes, vocabulario):\n",
        "    numero_palavras = len(testes)\n",
        "    acertou = 0\n",
        "    desconhecida = 0 \n",
        "    for correta, errada in testes:\n",
        "        palavra_corrigida = corretor(errada)\n",
        "        if palavra_corrigida == correta:\n",
        "           acertou = acertou + 1\n",
        "        else:\n",
        "            desconhecida += (correta not in vocabulario)\n",
        "    taxa_acerto = (round(acertou*100 / numero_palavras, 2))\n",
        "    taxa_desconhecida = (round(desconhecida*100 / numero_palavras, 2))\n",
        "    print(f\"A taxa de acerto é {taxa_acerto}% de {numero_palavras} palavras e a taxa de palavras desconhecidas é {taxa_desconhecida}%.\")\n",
        "\n",
        "vocabulario = set(lista_normalizada)\n",
        "avaliador(lista_teste, vocabulario)"
      ],
      "execution_count": null,
      "outputs": [
        {
          "output_type": "stream",
          "text": [
            "A taxa de acerto é 76.34% de 186 palavras e a taxa de palavras desconhecidas é 6.99%.\n"
          ],
          "name": "stdout"
        }
      ]
    },
    {
      "cell_type": "code",
      "metadata": {
        "colab": {
          "base_uri": "https://localhost:8080/"
        },
        "id": "_hrpYDgcFMtl",
        "outputId": "a24370c5-b8da-4940-df53-c1e96b76ab6a"
      },
      "source": [
        "palavra = 'lóiigica'\n",
        "\n",
        "def gerador_plus(palavras_geradas):\n",
        "    novas_palavras = []\n",
        "    for palavra in palavras_geradas:\n",
        "        novas_palavras += gerador_palavras(palavra)\n",
        "    return novas_palavras\n",
        "\n",
        "palavras_g = gerador_plus(gerador_palavras(palavra))\n",
        "'lógica' in palavras_g"
      ],
      "execution_count": null,
      "outputs": [
        {
          "output_type": "execute_result",
          "data": {
            "text/plain": [
              "True"
            ]
          },
          "metadata": {
            "tags": []
          },
          "execution_count": 50
        }
      ]
    },
    {
      "cell_type": "code",
      "metadata": {
        "colab": {
          "base_uri": "https://localhost:8080/"
        },
        "id": "S3265NvgN825",
        "outputId": "c883bb0a-1838-4a34-bf75-c3d60f74821f"
      },
      "source": [
        "len(palavras_g)"
      ],
      "execution_count": null,
      "outputs": [
        {
          "output_type": "execute_result",
          "data": {
            "text/plain": [
              "676760"
            ]
          },
          "metadata": {
            "tags": []
          },
          "execution_count": 51
        }
      ]
    },
    {
      "cell_type": "markdown",
      "metadata": {
        "id": "rwrBkuWCS2iN"
      },
      "source": [
        "Como estamos gerando um número muito grande de palavras, vamos melhorar a geração delas."
      ]
    },
    {
      "cell_type": "code",
      "metadata": {
        "colab": {
          "base_uri": "https://localhost:8080/",
          "height": 35
        },
        "id": "oayQn4i2QlhF",
        "outputId": "b6537e73-bb33-4582-a9a6-66db09cbb495"
      },
      "source": [
        "def novo_corretor(palavra):\n",
        "    palavras_geradas = gerador_palavras(palavra)\n",
        "    palavras_plus = gerador_plus(palavras_geradas)\n",
        "    todas_palavras = set(palavras_geradas + palavras_plus)\n",
        "    candidatos = [palavra]\n",
        "    for palavra in todas_palavras:\n",
        "        if palavra in vocabulario:\n",
        "           candidatos.append(palavra)\n",
        "    #print(len(candidatos))\n",
        "    palavra_correta = max(candidatos, key=probabilidade)\n",
        "    return palavra_correta\n",
        "\n",
        "palavra = 'lóiigica'\n",
        "novo_corretor(palavra)"
      ],
      "execution_count": null,
      "outputs": [
        {
          "output_type": "execute_result",
          "data": {
            "application/vnd.google.colaboratory.intrinsic+json": {
              "type": "string"
            },
            "text/plain": [
              "'lógica'"
            ]
          },
          "metadata": {
            "tags": []
          },
          "execution_count": 57
        }
      ]
    },
    {
      "cell_type": "markdown",
      "metadata": {
        "id": "Dw2mD0TAfyia"
      },
      "source": [
        "Avaliando a nova função de geração de palavras"
      ]
    },
    {
      "cell_type": "code",
      "metadata": {
        "colab": {
          "base_uri": "https://localhost:8080/"
        },
        "id": "2zn6NhCFV13o",
        "outputId": "1f3c5277-9d18-4c88-a671-250fe37b6efa"
      },
      "source": [
        "def avaliador(testes, vocabulario):\n",
        "    numero_palavras = len(testes)\n",
        "    acertou = 0\n",
        "    desconhecida = 0 \n",
        "    for correta, errada in testes:\n",
        "        palavra_corrigida = novo_corretor(errada)\n",
        "        desconhecida += (correta not in vocabulario)\n",
        "        if palavra_corrigida == correta:\n",
        "           acertou = acertou + 1\n",
        "    taxa_acerto = (round(acertou*100 / numero_palavras, 2))\n",
        "    taxa_desconhecida = (round(desconhecida*100 / numero_palavras, 2))\n",
        "    print(f\"A taxa de acerto é {taxa_acerto}% de {numero_palavras} palavras e a taxa de palavras desconhecidas é {taxa_desconhecida}%.\")\n",
        "\n",
        "vocabulario = set(lista_normalizada)\n",
        "avaliador(lista_teste, vocabulario) "
      ],
      "execution_count": null,
      "outputs": [
        {
          "output_type": "stream",
          "text": [
            "A taxa de acerto é 55.91% de 186 palavras e a taxa de palavras desconhecidas é 6.99%.\n"
          ],
          "name": "stdout"
        }
      ]
    },
    {
      "cell_type": "markdown",
      "metadata": {
        "id": "CDpaD_KbixwJ"
      },
      "source": [
        "Entendendo porque o novo corretor performou pior que o antigo"
      ]
    },
    {
      "cell_type": "code",
      "metadata": {
        "id": "M_cOfRzEf84w"
      },
      "source": [
        "def avaliador(testes, vocabulario):\n",
        "    numero_palavras = len(testes)\n",
        "    acertou = 0\n",
        "    desconhecida = 0 \n",
        "    for correta, errada in testes:\n",
        "        palavra_corrigida = novo_corretor(errada)\n",
        "        desconhecida += (correta not in vocabulario)\n",
        "        if palavra_corrigida == correta:\n",
        "           acertou = acertou + 1\n",
        "        else:\n",
        "            print(errada + ' - ' + corretor(errada) + ' - ' + palavra_corrigida)       \n",
        "    taxa_acerto = (round(acertou*100 / numero_palavras, 2))\n",
        "    taxa_desconhecida = (round(desconhecida*100 / numero_palavras, 2))\n",
        "    print(f\"A taxa de acerto é {taxa_acerto}% de {numero_palavras} palavras e a taxa de palavras desconhecidas é {taxa_desconhecida}%.\")\n",
        "\n",
        "vocabulario = set(lista_normalizada)\n",
        "avaliador(lista_teste, vocabulario) "
      ],
      "execution_count": null,
      "outputs": []
    },
    {
      "cell_type": "markdown",
      "metadata": {
        "id": "MDbmvH4Sj6IJ"
      },
      "source": [
        "Ao que parece, estatisticamente a distância dos erros de digitação é maior em uma letra, logo, um corretor que sempre corrija duas letras tem menor chance de acertar."
      ]
    },
    {
      "cell_type": "markdown",
      "metadata": {
        "id": "VYH5PK5EkjIB"
      },
      "source": [
        "Implementando o avaliador para usar apenas o antigo corretor. "
      ]
    },
    {
      "cell_type": "code",
      "metadata": {
        "colab": {
          "base_uri": "https://localhost:8080/"
        },
        "id": "5ULqEEPCi7aQ",
        "outputId": "c8ed7987-8ea4-4ecc-ce61-01f1861d28b4"
      },
      "source": [
        "def avaliador(testes, vocabulario):\n",
        "    numero_palavras = len(testes)\n",
        "    acertou = 0\n",
        "    desconhecida = 0 \n",
        "    for correta, errada in testes:\n",
        "        palavra_corrigida = corretor(errada)\n",
        "        desconhecida += (correta not in vocabulario)\n",
        "        if palavra_corrigida == correta:\n",
        "           acertou = acertou + 1     \n",
        "    taxa_acerto = (round(acertou*100 / numero_palavras, 2))\n",
        "    taxa_desconhecida = (round(desconhecida*100 / numero_palavras, 2))\n",
        "    print(f\"A taxa de acerto é {taxa_acerto}% de {numero_palavras} palavras e a taxa de palavras desconhecidas é {taxa_desconhecida}%.\")\n",
        "\n",
        "vocabulario = set(lista_normalizada)\n",
        "avaliador(lista_teste, vocabulario) "
      ],
      "execution_count": null,
      "outputs": [
        {
          "output_type": "stream",
          "text": [
            "A taxa de acerto é 76.34% de 186 palavras e a taxa de palavras desconhecidas é 6.99%.\n"
          ],
          "name": "stdout"
        }
      ]
    },
    {
      "cell_type": "code",
      "metadata": {
        "colab": {
          "base_uri": "https://localhost:8080/"
        },
        "id": "NWb5uvGCkueN",
        "outputId": "d1fbd682-ca7a-4915-8a58-c12c51ec26bd"
      },
      "source": [
        "palavra = 'lógia'\n",
        "print(novo_corretor(palavra))\n",
        "print(corretor(palavra))"
      ],
      "execution_count": null,
      "outputs": [
        {
          "output_type": "stream",
          "text": [
            "lógica\n",
            "lógica\n"
          ],
          "name": "stdout"
        }
      ]
    },
    {
      "cell_type": "code",
      "metadata": {
        "id": "yTJmorpwk9XP"
      },
      "source": [
        ""
      ],
      "execution_count": null,
      "outputs": []
    }
  ]
}
